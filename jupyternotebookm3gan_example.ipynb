{
 "cells": [
  {
   "cell_type": "markdown",
   "id": "d74cfc24",
   "metadata": {},
   "source": [
    "# Implementing GAN in PyTorch: Full Example"
   ]
  },
  {
   "cell_type": "markdown",
   "id": "b8ece9f0",
   "metadata": {},
   "source": [
    "## Setup Environment\n",
    "import torch\n",
    "import torch.nn as nn\n",
    "import torch.optim as optim\n",
    "from torchvision import datasets, transforms, utils\n",
    "from torch.utils.data import DataLoader\n",
    "import matplotlib.pyplot as plt\n",
    "import numpy as np"
   ]
  },
  {
   "cell_type": "code",
   "execution_count": null,
   "id": "ec45cec4",
   "metadata": {},
   "outputs": [],
   "source": [
    "device = torch.device(\"cuda\" if torch.cuda.is_available() else \"cpu\")"
   ]
  },
  {
   "cell_type": "markdown",
   "id": "f5112aa9",
   "metadata": {},
   "source": [
    "## Data Preparation\n",
    "transform = transforms.Compose([transforms.ToTensor(), transforms.Normalize((0.5,), (0.5,))])\n",
    "train_data = datasets.MNIST(root='./data', train=True, download=True, transform=transform)\n",
    "train_loader = DataLoader(train_data, batch_size=128, shuffle=True)"
   ]
  },
  {
   "cell_type": "markdown",
   "id": "fcab7347",
   "metadata": {},
   "source": [
    "## Generator\n",
    "class Generator(nn.Module):\n",
    "    def __init__(self):\n",
    "        super().__init__()\n",
    "        self.net = nn.Sequential(\n",
    "            nn.Linear(100, 256),\n",
    "            nn.ReLU(),\n",
    "            nn.Linear(256, 512),\n",
    "            nn.ReLU(),\n",
    "            nn.Linear(512, 28*28),\n",
    "            nn.Tanh()\n",
    "        )\n",
    "    def forward(self, x):\n",
    "        return self.net(x).view(-1, 1, 28, 28)"
   ]
  },
  {
   "cell_type": "markdown",
   "id": "39e462e6",
   "metadata": {},
   "source": [
    "## Discriminator\n",
    "class Discriminator(nn.Module):\n",
    "    def __init__(self):\n",
    "        super().__init__()\n",
    "        self.net = nn.Sequential(\n",
    "            nn.Linear(28*28, 512),\n",
    "            nn.LeakyReLU(0.2),\n",
    "            nn.Linear(512, 256),\n",
    "            nn.LeakyReLU(0.2),\n",
    "            nn.Linear(256, 1),\n",
    "            nn.Sigmoid()\n",
    "        )\n",
    "    def forward(self, x):\n",
    "        return self.net(x.view(-1, 28*28))"
   ]
  },
  {
   "cell_type": "code",
   "execution_count": null,
   "id": "10e62021",
   "metadata": {},
   "outputs": [],
   "source": [
    "G = Generator().to(device)\n",
    "D = Discriminator().to(device)\n",
    "criterion = nn.BCELoss()\n",
    "opt_G = optim.Adam(G.parameters(), lr=0.0002)\n",
    "opt_D = optim.Adam(D.parameters(), lr=0.0002)"
   ]
  },
  {
   "cell_type": "markdown",
   "id": "c7ef70d4",
   "metadata": {},
   "source": [
    "## Training Loop\n",
    "losses_G = []\n",
    "losses_D = []"
   ]
  },
  {
   "cell_type": "code",
   "execution_count": null,
   "id": "1b499952",
   "metadata": {},
   "outputs": [],
   "source": [
    "for epoch in range(30):\n",
    "    for i, (real, _) in enumerate(train_loader):\n",
    "        real = real.to(device)\n",
    "        bs = real.size(0)\n",
    "        label_real = torch.ones(bs, 1).to(device)\n",
    "        label_fake = torch.zeros(bs, 1).to(device)"
   ]
  },
  {
   "cell_type": "markdown",
   "id": "ef29c629",
   "metadata": {},
   "source": [
    "        # Train Discriminator\n",
    "        opt_D.zero_grad()\n",
    "        pred_real = D(real)\n",
    "        loss_real = criterion(pred_real, label_real)"
   ]
  },
  {
   "cell_type": "code",
   "execution_count": null,
   "id": "77a77156",
   "metadata": {},
   "outputs": [],
   "source": [
    "        noise = torch.randn(bs, 100).to(device)\n",
    "        fake = G(noise)\n",
    "        pred_fake = D(fake.detach())\n",
    "        loss_fake = criterion(pred_fake, label_fake)"
   ]
  },
  {
   "cell_type": "code",
   "execution_count": null,
   "id": "1aaec752",
   "metadata": {},
   "outputs": [],
   "source": [
    "        loss_D = loss_real + loss_fake\n",
    "        loss_D.backward()\n",
    "        opt_D.step()"
   ]
  },
  {
   "cell_type": "markdown",
   "id": "62419310",
   "metadata": {},
   "source": [
    "        # Train Generator\n",
    "        opt_G.zero_grad()\n",
    "        pred = D(fake)\n",
    "        loss_G = criterion(pred, label_real)\n",
    "        loss_G.backward()\n",
    "        opt_G.step()"
   ]
  },
  {
   "cell_type": "code",
   "execution_count": null,
   "id": "956bf3dc",
   "metadata": {},
   "outputs": [],
   "source": [
    "    losses_D.append(loss_D.item())\n",
    "    losses_G.append(loss_G.item())\n",
    "    print(f'Epoch {epoch+1}, Loss_D: {loss_D.item():.4f}, Loss_G: {loss_G.item():.4f}')"
   ]
  },
  {
   "cell_type": "markdown",
   "id": "89217817",
   "metadata": {},
   "source": [
    "## Evaluation\n",
    "def show_samples():\n",
    "    with torch.no_grad():\n",
    "        noise = torch.randn(16, 100).to(device)\n",
    "        samples = G(noise).cpu()\n",
    "        grid = utils.make_grid(samples, nrow=4, normalize=True)\n",
    "        plt.figure(figsize=(5,5))\n",
    "        plt.imshow(np.transpose(grid, (1,2,0)))\n",
    "        plt.axis('off')\n",
    "        plt.show()"
   ]
  },
  {
   "cell_type": "code",
   "execution_count": null,
   "id": "9610029f",
   "metadata": {},
   "outputs": [],
   "source": [
    "show_samples()"
   ]
  },
  {
   "cell_type": "markdown",
   "id": "f059e576",
   "metadata": {},
   "source": [
    "## Loss Plot\n",
    "plt.plot(losses_D, label='Discriminator')\n",
    "plt.plot(losses_G, label='Generator')\n",
    "plt.legend()\n",
    "plt.title('Loss Curves')\n",
    "plt.show()"
   ]
  }
 ],
 "metadata": {},
 "nbformat": 4,
 "nbformat_minor": 5
}
