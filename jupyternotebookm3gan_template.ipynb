{
 "cells": [
  {
   "cell_type": "markdown",
   "id": "a4c8b0b5",
   "metadata": {},
   "source": [
    "# GAN Implementation Template (PyTorch)"
   ]
  },
  {
   "cell_type": "markdown",
   "id": "bf59e325",
   "metadata": {},
   "source": [
    "\"\"\"\n",
    "# Assignment: Implementing GAN in PyTorch"
   ]
  },
  {
   "cell_type": "code",
   "execution_count": null,
   "id": "25ccbfff",
   "metadata": {},
   "outputs": [],
   "source": [
    "This is a starter template notebook for students to implement a Generative Adversarial Network (GAN) using PyTorch. Follow the section prompts below to complete your implementation."
   ]
  },
  {
   "cell_type": "code",
   "execution_count": null,
   "id": "a171269b",
   "metadata": {},
   "outputs": [],
   "source": [
    "You may refer to the example notebook provided, but you are encouraged to experiment and develop your own version."
   ]
  },
  {
   "cell_type": "code",
   "execution_count": null,
   "id": "9bdf83f6",
   "metadata": {},
   "outputs": [],
   "source": [
    "---\n",
    "\"\"\""
   ]
  },
  {
   "cell_type": "markdown",
   "id": "9dd86342",
   "metadata": {},
   "source": [
    "# -------------------------------------------------\n",
    "# 1. Setup Environment\n",
    "# (Import necessary libraries here)"
   ]
  },
  {
   "cell_type": "markdown",
   "id": "00cff3d9",
   "metadata": {},
   "source": [
    "\n",
    "# -------------------------------------------------\n",
    "# 2. Configure Device (use GPU if available)"
   ]
  },
  {
   "cell_type": "markdown",
   "id": "e7442a8f",
   "metadata": {},
   "source": [
    "\n",
    "# -------------------------------------------------\n",
    "# 3. Data Preparation\n",
    "# (Load and preprocess the dataset - MNIST or CIFAR-10)"
   ]
  },
  {
   "cell_type": "markdown",
   "id": "35106bde",
   "metadata": {},
   "source": [
    "\n",
    "# -------------------------------------------------\n",
    "# 4. Model Architecture\n",
    "## 4.1 Generator\n",
    "# (Implement Generator class)"
   ]
  },
  {
   "cell_type": "markdown",
   "id": "c40136bb",
   "metadata": {},
   "source": [
    "\n",
    "## 4.2 Discriminator\n",
    "# (Implement Discriminator class)"
   ]
  },
  {
   "cell_type": "markdown",
   "id": "94239310",
   "metadata": {},
   "source": [
    "\n",
    "# -------------------------------------------------\n",
    "# 5. Loss Function and Optimizers"
   ]
  },
  {
   "cell_type": "markdown",
   "id": "61c7037b",
   "metadata": {},
   "source": [
    "\n",
    "# -------------------------------------------------\n",
    "# 6. Training Loop\n",
    "# (Train both Discriminator and Generator)"
   ]
  },
  {
   "cell_type": "markdown",
   "id": "8b0be146",
   "metadata": {},
   "source": [
    "\n",
    "# -------------------------------------------------\n",
    "# 7. Evaluation and Visualization\n",
    "# (Generate and display synthetic images)"
   ]
  },
  {
   "cell_type": "markdown",
   "id": "34054950",
   "metadata": {},
   "source": [
    "\n",
    "# -------------------------------------------------\n",
    "# 8. Plotting Loss Curves"
   ]
  },
  {
   "cell_type": "markdown",
   "id": "3ced1b46",
   "metadata": {},
   "source": [
    "\n",
    "# -------------------------------------------------\n",
    "# 9. Practice Tasks (Markdown Instructions)\n",
    "\"\"\"\n",
    "## Practice Tasks"
   ]
  },
  {
   "cell_type": "code",
   "execution_count": null,
   "id": "d6011ba4",
   "metadata": {},
   "outputs": [],
   "source": [
    "Now that you have a basic structure for your GAN:"
   ]
  },
  {
   "cell_type": "code",
   "execution_count": null,
   "id": "8c067f15",
   "metadata": {},
   "outputs": [],
   "source": [
    "1. Implement your own Generator and Discriminator architectures.\n",
    "2. Adjust hyperparameters (learning rate, batch size, etc.) and observe the effects.\n",
    "3. Train your model on a different dataset (e.g., CIFAR-10).\n",
    "4. Save generated images at different training stages.\n",
    "5. Use Markdown cells to explain your design choices, observations, and results."
   ]
  },
  {
   "cell_type": "code",
   "execution_count": null,
   "id": "1768438f",
   "metadata": {},
   "outputs": [],
   "source": [
    "---"
   ]
  },
  {
   "cell_type": "code",
   "execution_count": null,
   "id": "7eb203f2",
   "metadata": {},
   "outputs": [],
   "source": [
    "Once complete, export this notebook and submit your `.ipynb` file as your assignment.\n",
    "\"\"\""
   ]
  }
 ],
 "metadata": {},
 "nbformat": 4,
 "nbformat_minor": 5
}
